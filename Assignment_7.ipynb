{
 "cells": [
  {
   "cell_type": "markdown",
   "metadata": {},
   "source": [
    "## IS 362 Week 7 Assignment\n",
    "\n",
    "**Choose six recent popular movies. Ask at least five people that you know (friends, family, classmates, imaginary friends) to rate each of these movies that they have seen on a scale of 1 to 5. There should be at least one movie that not everyone has seen!\n",
    "Take the results (observations) and store them somewhere (like a SQL database, or a .CSV file). Load the information into a pandas dataframe.**\n"
   ]
  },
  {
   "cell_type": "markdown",
   "metadata": {},
   "source": [
    "** Question 1. Load the ratings by user information that you collected into a pandas dataframe.**"
   ]
  },
  {
   "cell_type": "code",
   "execution_count": 1,
   "metadata": {
    "collapsed": true
   },
   "outputs": [],
   "source": [
    "#The code below will import pandas & numpy\n",
    "import pandas as pd\n",
    "import numpy as np"
   ]
  },
  {
   "cell_type": "code",
   "execution_count": 2,
   "metadata": {
    "collapsed": true
   },
   "outputs": [],
   "source": [
    "#The code below will read the csv file I created\n",
    "movies = pd.read_csv('https://raw.githubusercontent.com/kchanga/Assignment-7/master/Movies.csv')"
   ]
  },
  {
   "cell_type": "code",
   "execution_count": 3,
   "metadata": {},
   "outputs": [
    {
     "data": {
      "text/html": [
       "<div>\n",
       "<style>\n",
       "    .dataframe thead tr:only-child th {\n",
       "        text-align: right;\n",
       "    }\n",
       "\n",
       "    .dataframe thead th {\n",
       "        text-align: left;\n",
       "    }\n",
       "\n",
       "    .dataframe tbody tr th {\n",
       "        vertical-align: top;\n",
       "    }\n",
       "</style>\n",
       "<table border=\"1\" class=\"dataframe\">\n",
       "  <thead>\n",
       "    <tr style=\"text-align: right;\">\n",
       "      <th></th>\n",
       "      <th>Name</th>\n",
       "      <th>Avengers: Infinity War</th>\n",
       "      <th>Ant Man 2</th>\n",
       "      <th>Deadpool 2</th>\n",
       "      <th>Black Panther</th>\n",
       "      <th>Thor Ragnorok</th>\n",
       "      <th>Justice League</th>\n",
       "    </tr>\n",
       "  </thead>\n",
       "  <tbody>\n",
       "    <tr>\n",
       "      <th>0</th>\n",
       "      <td>Nelly</td>\n",
       "      <td>NaN</td>\n",
       "      <td>2.0</td>\n",
       "      <td>5.0</td>\n",
       "      <td>5.0</td>\n",
       "      <td>3.0</td>\n",
       "      <td>1</td>\n",
       "    </tr>\n",
       "    <tr>\n",
       "      <th>1</th>\n",
       "      <td>Bruce</td>\n",
       "      <td>5.0</td>\n",
       "      <td>NaN</td>\n",
       "      <td>4.0</td>\n",
       "      <td>5.0</td>\n",
       "      <td>4.0</td>\n",
       "      <td>3</td>\n",
       "    </tr>\n",
       "    <tr>\n",
       "      <th>2</th>\n",
       "      <td>Zane</td>\n",
       "      <td>3.0</td>\n",
       "      <td>4.0</td>\n",
       "      <td>NaN</td>\n",
       "      <td>2.0</td>\n",
       "      <td>4.0</td>\n",
       "      <td>2</td>\n",
       "    </tr>\n",
       "    <tr>\n",
       "      <th>3</th>\n",
       "      <td>Lorraine</td>\n",
       "      <td>4.0</td>\n",
       "      <td>3.0</td>\n",
       "      <td>4.0</td>\n",
       "      <td>NaN</td>\n",
       "      <td>3.0</td>\n",
       "      <td>1</td>\n",
       "    </tr>\n",
       "    <tr>\n",
       "      <th>4</th>\n",
       "      <td>Alexa</td>\n",
       "      <td>5.0</td>\n",
       "      <td>1.0</td>\n",
       "      <td>2.0</td>\n",
       "      <td>4.0</td>\n",
       "      <td>NaN</td>\n",
       "      <td>3</td>\n",
       "    </tr>\n",
       "  </tbody>\n",
       "</table>\n",
       "</div>"
      ],
      "text/plain": [
       "       Name  Avengers: Infinity War  Ant Man 2  Deadpool 2  Black Panther  \\\n",
       "0     Nelly                     NaN        2.0         5.0            5.0   \n",
       "1     Bruce                     5.0        NaN         4.0            5.0   \n",
       "2      Zane                     3.0        4.0         NaN            2.0   \n",
       "3  Lorraine                     4.0        3.0         4.0            NaN   \n",
       "4     Alexa                     5.0        1.0         2.0            4.0   \n",
       "\n",
       "   Thor Ragnorok  Justice League  \n",
       "0            3.0               1  \n",
       "1            4.0               3  \n",
       "2            4.0               2  \n",
       "3            3.0               1  \n",
       "4            NaN               3  "
      ]
     },
     "execution_count": 3,
     "metadata": {},
     "output_type": "execute_result"
    }
   ],
   "source": [
    "#The code below will display the csv\n",
    "movies"
   ]
  },
  {
   "cell_type": "markdown",
   "metadata": {},
   "source": [
    "**Question 2. Show the average ratings for each user and each movie.**"
   ]
  },
  {
   "cell_type": "code",
   "execution_count": null,
   "metadata": {
    "collapsed": true
   },
   "outputs": [],
   "source": [
    "#The code below displays the average user ratings\n",
    "movies = movies.set_index('Name')\n",
    "review_avg = movies.mean(axis=1).round(decimals=0)\n",
    "average_rating = movies.mean().round(decimals=0)\n",
    "review_avg"
   ]
  },
  {
   "cell_type": "code",
   "execution_count": 5,
   "metadata": {},
   "outputs": [
    {
     "data": {
      "text/plain": [
       "Avengers: Infinity War    4.0\n",
       "Ant Man 2                 2.0\n",
       "Deadpool 2                4.0\n",
       "Black Panther             4.0\n",
       "Thor Ragnorok             4.0\n",
       "Justice League            2.0\n",
       "dtype: float64"
      ]
     },
     "execution_count": 5,
     "metadata": {},
     "output_type": "execute_result"
    }
   ],
   "source": [
    "#The code below displays the average movie ratings\n",
    "average_rating"
   ]
  },
  {
   "cell_type": "markdown",
   "metadata": {},
   "source": [
    "** 3. Create a new pandas dataframe, with normalized ratings for each user.**"
   ]
  },
  {
   "cell_type": "code",
   "execution_count": 7,
   "metadata": {},
   "outputs": [
    {
     "data": {
      "text/html": [
       "<div>\n",
       "<style>\n",
       "    .dataframe thead tr:only-child th {\n",
       "        text-align: right;\n",
       "    }\n",
       "\n",
       "    .dataframe thead th {\n",
       "        text-align: left;\n",
       "    }\n",
       "\n",
       "    .dataframe tbody tr th {\n",
       "        vertical-align: top;\n",
       "    }\n",
       "</style>\n",
       "<table border=\"1\" class=\"dataframe\">\n",
       "  <thead>\n",
       "    <tr style=\"text-align: right;\">\n",
       "      <th></th>\n",
       "      <th>Avengers: Infinity War</th>\n",
       "      <th>Ant Man 2</th>\n",
       "      <th>Deadpool 2</th>\n",
       "      <th>Black Panther</th>\n",
       "      <th>Thor Ragnorok</th>\n",
       "      <th>Justice League</th>\n",
       "    </tr>\n",
       "    <tr>\n",
       "      <th>Name</th>\n",
       "      <th></th>\n",
       "      <th></th>\n",
       "      <th></th>\n",
       "      <th></th>\n",
       "      <th></th>\n",
       "      <th></th>\n",
       "    </tr>\n",
       "  </thead>\n",
       "  <tbody>\n",
       "    <tr>\n",
       "      <th>Nelly</th>\n",
       "      <td>NaN</td>\n",
       "      <td>0.333333</td>\n",
       "      <td>1.000000</td>\n",
       "      <td>1.000000</td>\n",
       "      <td>0.0</td>\n",
       "      <td>0.0</td>\n",
       "    </tr>\n",
       "    <tr>\n",
       "      <th>Bruce</th>\n",
       "      <td>1.0</td>\n",
       "      <td>NaN</td>\n",
       "      <td>0.666667</td>\n",
       "      <td>1.000000</td>\n",
       "      <td>1.0</td>\n",
       "      <td>1.0</td>\n",
       "    </tr>\n",
       "    <tr>\n",
       "      <th>Zane</th>\n",
       "      <td>0.0</td>\n",
       "      <td>1.000000</td>\n",
       "      <td>NaN</td>\n",
       "      <td>0.000000</td>\n",
       "      <td>1.0</td>\n",
       "      <td>0.5</td>\n",
       "    </tr>\n",
       "    <tr>\n",
       "      <th>Lorraine</th>\n",
       "      <td>0.5</td>\n",
       "      <td>0.666667</td>\n",
       "      <td>0.666667</td>\n",
       "      <td>NaN</td>\n",
       "      <td>0.0</td>\n",
       "      <td>0.0</td>\n",
       "    </tr>\n",
       "    <tr>\n",
       "      <th>Alexa</th>\n",
       "      <td>1.0</td>\n",
       "      <td>0.000000</td>\n",
       "      <td>0.000000</td>\n",
       "      <td>0.666667</td>\n",
       "      <td>NaN</td>\n",
       "      <td>1.0</td>\n",
       "    </tr>\n",
       "  </tbody>\n",
       "</table>\n",
       "</div>"
      ],
      "text/plain": [
       "          Avengers: Infinity War  Ant Man 2  Deadpool 2  Black Panther  \\\n",
       "Name                                                                     \n",
       "Nelly                        NaN   0.333333    1.000000       1.000000   \n",
       "Bruce                        1.0        NaN    0.666667       1.000000   \n",
       "Zane                         0.0   1.000000         NaN       0.000000   \n",
       "Lorraine                     0.5   0.666667    0.666667            NaN   \n",
       "Alexa                        1.0   0.000000    0.000000       0.666667   \n",
       "\n",
       "          Thor Ragnorok  Justice League  \n",
       "Name                                     \n",
       "Nelly               0.0             0.0  \n",
       "Bruce               1.0             1.0  \n",
       "Zane                1.0             0.5  \n",
       "Lorraine            0.0             0.0  \n",
       "Alexa               NaN             1.0  "
      ]
     },
     "execution_count": 7,
     "metadata": {},
     "output_type": "execute_result"
    }
   ],
   "source": [
    "#The code below will normalize the ratings for each user\n",
    "x = movies\n",
    "normalization = (x - x.min()) / (x.max() - x.min())\n",
    "normalization"
   ]
  },
  {
   "cell_type": "code",
   "execution_count": null,
   "metadata": {
    "collapsed": true
   },
   "outputs": [],
   "source": [
    "#The code below will show the average ratings for each user again\n",
    "avgmovies = normalization.mean(axis=1).round(decimals=5)\n",
    "avgusers = normalization.mean().round(decimals=5)\n",
    "avgusers"
   ]
  },
  {
   "cell_type": "code",
   "execution_count": 9,
   "metadata": {},
   "outputs": [
    {
     "data": {
      "text/plain": [
       "Name\n",
       "Nelly       0.46667\n",
       "Bruce       0.93333\n",
       "Zane        0.50000\n",
       "Lorraine    0.36667\n",
       "Alexa       0.53333\n",
       "dtype: float64"
      ]
     },
     "execution_count": 9,
     "metadata": {},
     "output_type": "execute_result"
    }
   ],
   "source": [
    "#The code below will show the average ratings for each movie again\n",
    "avgmovies"
   ]
  },
  {
   "cell_type": "markdown",
   "metadata": {},
   "source": [
    "**4. Provide a text-based conclusion: explain what might be advantages and disadvantages of using normalized ratings instead of the actual ratings.**"
   ]
  },
  {
   "cell_type": "markdown",
   "metadata": {},
   "source": [
    "By looking at the data, the averages, the normalized data and its averages we are able to get a more complete look at the data that accounts for anomalies like outliers or duplicates."
   ]
  },
  {
   "cell_type": "markdown",
   "metadata": {},
   "source": [
    "** 5. [Extra credit] Create another new pandas dataframe, with standardized ratings for each user.**"
   ]
  },
  {
   "cell_type": "code",
   "execution_count": 11,
   "metadata": {},
   "outputs": [
    {
     "data": {
      "text/html": [
       "<div>\n",
       "<style>\n",
       "    .dataframe thead tr:only-child th {\n",
       "        text-align: right;\n",
       "    }\n",
       "\n",
       "    .dataframe thead th {\n",
       "        text-align: left;\n",
       "    }\n",
       "\n",
       "    .dataframe tbody tr th {\n",
       "        vertical-align: top;\n",
       "    }\n",
       "</style>\n",
       "<table border=\"1\" class=\"dataframe\">\n",
       "  <thead>\n",
       "    <tr style=\"text-align: right;\">\n",
       "      <th></th>\n",
       "      <th>Avengers: Infinity War</th>\n",
       "      <th>Ant Man 2</th>\n",
       "      <th>Deadpool 2</th>\n",
       "      <th>Black Panther</th>\n",
       "      <th>Thor Ragnorok</th>\n",
       "      <th>Justice League</th>\n",
       "    </tr>\n",
       "    <tr>\n",
       "      <th>Name</th>\n",
       "      <th></th>\n",
       "      <th></th>\n",
       "      <th></th>\n",
       "      <th></th>\n",
       "      <th></th>\n",
       "      <th></th>\n",
       "    </tr>\n",
       "  </thead>\n",
       "  <tbody>\n",
       "    <tr>\n",
       "      <th>Nelly</th>\n",
       "      <td>NaN</td>\n",
       "      <td>-0.387298</td>\n",
       "      <td>0.993399</td>\n",
       "      <td>0.707107</td>\n",
       "      <td>-0.866025</td>\n",
       "      <td>-1.0</td>\n",
       "    </tr>\n",
       "    <tr>\n",
       "      <th>Bruce</th>\n",
       "      <td>0.783349</td>\n",
       "      <td>NaN</td>\n",
       "      <td>0.198680</td>\n",
       "      <td>0.707107</td>\n",
       "      <td>0.866025</td>\n",
       "      <td>1.0</td>\n",
       "    </tr>\n",
       "    <tr>\n",
       "      <th>Zane</th>\n",
       "      <td>-1.305582</td>\n",
       "      <td>1.161895</td>\n",
       "      <td>NaN</td>\n",
       "      <td>-1.414214</td>\n",
       "      <td>0.866025</td>\n",
       "      <td>0.0</td>\n",
       "    </tr>\n",
       "    <tr>\n",
       "      <th>Lorraine</th>\n",
       "      <td>-0.261116</td>\n",
       "      <td>0.387298</td>\n",
       "      <td>0.198680</td>\n",
       "      <td>NaN</td>\n",
       "      <td>-0.866025</td>\n",
       "      <td>-1.0</td>\n",
       "    </tr>\n",
       "    <tr>\n",
       "      <th>Alexa</th>\n",
       "      <td>0.783349</td>\n",
       "      <td>-1.161895</td>\n",
       "      <td>-1.390759</td>\n",
       "      <td>0.000000</td>\n",
       "      <td>NaN</td>\n",
       "      <td>1.0</td>\n",
       "    </tr>\n",
       "  </tbody>\n",
       "</table>\n",
       "</div>"
      ],
      "text/plain": [
       "          Avengers: Infinity War  Ant Man 2  Deadpool 2  Black Panther  \\\n",
       "Name                                                                     \n",
       "Nelly                        NaN  -0.387298    0.993399       0.707107   \n",
       "Bruce                   0.783349        NaN    0.198680       0.707107   \n",
       "Zane                   -1.305582   1.161895         NaN      -1.414214   \n",
       "Lorraine               -0.261116   0.387298    0.198680            NaN   \n",
       "Alexa                   0.783349  -1.161895   -1.390759       0.000000   \n",
       "\n",
       "          Thor Ragnorok  Justice League  \n",
       "Name                                     \n",
       "Nelly         -0.866025            -1.0  \n",
       "Bruce          0.866025             1.0  \n",
       "Zane           0.866025             0.0  \n",
       "Lorraine      -0.866025            -1.0  \n",
       "Alexa               NaN             1.0  "
      ]
     },
     "execution_count": 11,
     "metadata": {},
     "output_type": "execute_result"
    }
   ],
   "source": [
    "#The code below will create standardized ratings for each user\n",
    "standard_movies = (x - x.mean()) / (x.std())\n",
    "standard_movies"
   ]
  },
  {
   "cell_type": "code",
   "execution_count": 13,
   "metadata": {},
   "outputs": [
    {
     "data": {
      "text/plain": [
       "Avengers: Infinity War    0.0\n",
       "Ant Man 2                 0.0\n",
       "Deadpool 2                0.0\n",
       "Black Panther             0.0\n",
       "Thor Ragnorok             0.0\n",
       "Justice League            0.0\n",
       "dtype: float64"
      ]
     },
     "execution_count": 13,
     "metadata": {},
     "output_type": "execute_result"
    }
   ],
   "source": [
    "#The code below will once again show the average ratings for each user and movie\n",
    "standardavgmovies = standard_movies.mean(axis=1).round(decimals=5)\n",
    "standardavgusers = standard_movies.mean().round(decimals=5)\n",
    "standardavgusers"
   ]
  },
  {
   "cell_type": "code",
   "execution_count": 14,
   "metadata": {},
   "outputs": [
    {
     "data": {
      "text/plain": [
       "Name\n",
       "Nelly      -0.11056\n",
       "Bruce       0.71103\n",
       "Zane       -0.13838\n",
       "Lorraine   -0.30823\n",
       "Alexa      -0.15386\n",
       "dtype: float64"
      ]
     },
     "execution_count": 14,
     "metadata": {},
     "output_type": "execute_result"
    }
   ],
   "source": [
    "standardavgmovies"
   ]
  },
  {
   "cell_type": "code",
   "execution_count": null,
   "metadata": {
    "collapsed": true
   },
   "outputs": [],
   "source": []
  }
 ],
 "metadata": {
  "kernelspec": {
   "display_name": "Python 2",
   "language": "python",
   "name": "python2"
  },
  "language_info": {
   "codemirror_mode": {
    "name": "ipython",
    "version": 2
   },
   "file_extension": ".py",
   "mimetype": "text/x-python",
   "name": "python",
   "nbconvert_exporter": "python",
   "pygments_lexer": "ipython2",
   "version": "2.7.13"
  }
 },
 "nbformat": 4,
 "nbformat_minor": 2
}
